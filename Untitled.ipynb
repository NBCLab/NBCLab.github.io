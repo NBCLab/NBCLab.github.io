{
 "cells": [
  {
   "cell_type": "code",
   "execution_count": 4,
   "metadata": {},
   "outputs": [],
   "source": [
    "from glob import glob\n",
    "import os\n",
    "import cv2\n",
    "import numpy as np"
   ]
  },
  {
   "cell_type": "code",
   "execution_count": 16,
   "metadata": {},
   "outputs": [
    {
     "name": "stdout",
     "output_type": "stream",
     "text": [
      "alexandra-moor.jpg\n",
      "(150, 150)\n",
      "aleymi-perez.jpg\n",
      "(200, 223)\n",
      "(179, 200)\n",
      "angela-laird.jpg\n",
      "(300, 200)\n",
      "(200, 133)\n",
      "ariel-gonzalez.png\n",
      "(640, 360)\n",
      "(200, 112)\n",
      "benjelene-sutherland.jpg\n",
      "(300, 450)\n",
      "(133, 200)\n",
      "brianna-pankey.png\n",
      "(300, 225)\n",
      "(200, 150)\n",
      "brigitte-madan.png\n",
      "(442, 600)\n",
      "(147, 200)\n",
      "cary-alvarez.jpg\n",
      "(1494, 1170)\n",
      "(200, 156)\n",
      "chelsea-greaves.png\n",
      "(217, 128)\n",
      "(200, 117)\n",
      "diamela-arencibia.png\n",
      "(500, 281)\n",
      "(200, 112)\n",
      "jennifer-foreman.png\n",
      "(300, 197)\n",
      "(200, 131)\n",
      "jessica-bartley.jpg\n",
      "(225, 150)\n",
      "(200, 133)\n",
      "jessica-flannery.jpg\n",
      "(597, 582)\n",
      "(200, 194)\n",
      "julio-peraza.jpg\n",
      "(404, 403)\n",
      "(200, 199)\n",
      "julio-yanes.jpg\n",
      "(225, 150)\n",
      "(200, 133)\n",
      "karina-falcone.jpg\n",
      "(225, 150)\n",
      "(200, 133)\n",
      "katharine-crooks.jpg\n",
      "(400, 400)\n",
      "(200, 200)\n",
      "katherine-bottenhorn.jpg\n",
      "(225, 127)\n",
      "(200, 112)\n",
      "kimberly-ray.jpg\n",
      "(225, 150)\n",
      "(200, 133)\n",
      "laura-ucros.jpg\n",
      "(750, 600)\n",
      "(200, 160)\n",
      "lauren-bowen.png\n",
      "(650, 488)\n",
      "(200, 150)\n",
      "matthew-sutherland.jpg\n",
      "(300, 200)\n",
      "(200, 133)\n",
      "michael-riedel.jpg\n",
      "(225, 150)\n",
      "(200, 133)\n",
      "nasreen-hidmi.jpg\n",
      "(400, 600)\n",
      "(133, 200)\n",
      "odette-manresa.jpg\n",
      "(400, 600)\n",
      "(133, 200)\n",
      "patricio-viera-perez.jpg\n",
      "(525, 475)\n",
      "(200, 180)\n",
      "ranjita-poudel.jpg\n",
      "(225, 150)\n",
      "(200, 133)\n",
      "rosario-pintos-lobo.jpg\n",
      "(225, 150)\n",
      "(200, 133)\n",
      "taylor-salo.jpg\n",
      "(225, 150)\n",
      "(200, 133)\n",
      "veronica-del-prete.jpg\n",
      "(225, 145)\n",
      "(200, 128)\n"
     ]
    }
   ],
   "source": [
    "files = sorted(glob('assets/images/team/*-*'))\n",
    "for f in files:\n",
    "    print(os.path.basename(f))\n",
    "    img = cv2.imread(f)\n",
    "    img_shape = img.shape[:2]\n",
    "    ratio = 200 / np.max(img_shape)\n",
    "    print(img_shape)\n",
    "    \n",
    "    if np.max(img_shape) > 200:\n",
    "        # must be resized\n",
    "        width = int(img.shape[1] * scale_percent)\n",
    "        height = int(img.shape[0] * scale_percent)\n",
    "        print((width, height))\n",
    "        img = cv2.resize(img, dsize=(width, height), interpolation=cv2.INTER_LINEAR)\n",
    "        cv2.imwrite(f, img)"
   ]
  },
  {
   "cell_type": "code",
   "execution_count": 6,
   "metadata": {},
   "outputs": [
    {
     "data": {
      "text/plain": [
       "0"
      ]
     },
     "execution_count": 6,
     "metadata": {},
     "output_type": "execute_result"
    }
   ],
   "source": [
    "min_axis"
   ]
  },
  {
   "cell_type": "code",
   "execution_count": null,
   "metadata": {},
   "outputs": [],
   "source": []
  }
 ],
 "metadata": {
  "kernelspec": {
   "display_name": "Python [conda env:python3]",
   "language": "python",
   "name": "conda-env-python3-py"
  },
  "language_info": {
   "codemirror_mode": {
    "name": "ipython",
    "version": 3
   },
   "file_extension": ".py",
   "mimetype": "text/x-python",
   "name": "python",
   "nbconvert_exporter": "python",
   "pygments_lexer": "ipython3",
   "version": "3.6.4"
  }
 },
 "nbformat": 4,
 "nbformat_minor": 2
}
