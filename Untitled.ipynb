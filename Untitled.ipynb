{
 "cells": [
  {
   "cell_type": "code",
   "execution_count": 1,
   "metadata": {},
   "outputs": [],
   "source": [
    "from glob import glob\n",
    "import os\n",
    "import cv2\n",
    "import numpy as np"
   ]
  },
  {
   "cell_type": "code",
   "execution_count": 2,
   "metadata": {},
   "outputs": [
    {
     "name": "stdout",
     "output_type": "stream",
     "text": [
      "alexandra-moor.jpg\n",
      "(150, 150)\n",
      "(112, 112)\n",
      "aleymi-perez.jpg\n",
      "(1007, 1124)\n",
      "(223, 200)\n",
      "angela-laird.jpg\n",
      "(300, 200)\n",
      "ariel-gonzalez.png\n",
      "(640, 360)\n",
      "(200, 355)\n",
      "benjelene-sutherland.jpg\n",
      "(300, 450)\n",
      "(300, 200)\n",
      "brianna-pankey.png\n",
      "(300, 225)\n",
      "(200, 266)\n",
      "brigitte-madan.png\n",
      "(442, 600)\n",
      "(271, 200)\n",
      "cary-alvarez.jpg\n",
      "(1494, 1170)\n",
      "(200, 255)\n",
      "chelsea-greaves.png\n",
      "(217, 128)\n",
      "(81, 138)\n",
      "diamela-arencibia.png\n",
      "(500, 281)\n",
      "(200, 355)\n",
      "jennifer-foreman.png\n",
      "(300, 197)\n",
      "(194, 295)\n",
      "jessica-bartley.jpg\n",
      "(225, 150)\n",
      "(112, 168)\n",
      "jessica-flannery.jpg\n",
      "(597, 582)\n",
      "(200, 205)\n",
      "julio-peraza.jpg\n",
      "(404, 403)\n",
      "(200, 200)\n",
      "julio-yanes.jpg\n",
      "(225, 150)\n",
      "(112, 168)\n",
      "karina-falcone.jpg\n",
      "(225, 150)\n",
      "(112, 168)\n",
      "katharine-crooks.jpg\n",
      "(400, 400)\n",
      "(200, 200)\n",
      "katherine-bottenhorn.jpg\n",
      "(225, 127)\n",
      "(80, 142)\n",
      "kimberly-ray.jpg\n",
      "(225, 150)\n",
      "(112, 168)\n",
      "laura-ucros.jpg\n",
      "(750, 600)\n",
      "(200, 250)\n",
      "lauren-bowen.png\n",
      "(650, 488)\n",
      "(200, 266)\n",
      "matthew-sutherland.jpg\n",
      "(300, 200)\n",
      "michael-riedel.jpg\n",
      "(225, 150)\n",
      "(112, 168)\n",
      "nasreen-hidmi.jpg\n",
      "(400, 600)\n",
      "(300, 200)\n",
      "odette-manresa.jpg\n",
      "(400, 600)\n",
      "(300, 200)\n",
      "patricio-viera-perez.jpg\n",
      "(525, 475)\n",
      "(200, 221)\n",
      "ranjita-poudel.jpg\n",
      "(225, 150)\n",
      "(112, 168)\n",
      "rosario-pintos-lobo.jpg\n",
      "(225, 150)\n",
      "(112, 168)\n",
      "taylor-salo.jpg\n",
      "(225, 150)\n",
      "(112, 168)\n",
      "veronica-del-prete.jpg\n",
      "(225, 145)\n",
      "(105, 163)\n"
     ]
    }
   ],
   "source": [
    "files = sorted(glob('assets/images/team/*-*'))\n",
    "for f in files:\n",
    "    print(os.path.basename(f))\n",
    "    img = cv2.imread(f)\n",
    "    img_shape = img.shape[:2]\n",
    "    print(img_shape)\n",
    "    \n",
    "    if np.min(img_shape) > 200:\n",
    "        scale_percent = 200 / np.min(img_shape)\n",
    "    elif np.min(img_shape) < 200:\n",
    "        scale_percent = np.min(img_shape) / 200\n",
    "    else:\n",
    "        scale_percent = None\n",
    "    \n",
    "    if scale_percent is not None:\n",
    "        print(scale_percent)\n",
    "        # must be resized\n",
    "        width = int(img.shape[1] * scale_percent)\n",
    "        height = int(img.shape[0] * scale_percent)\n",
    "        print((width, height))\n",
    "        #img = cv2.resize(img, dsize=(width, height), interpolation=cv2.INTER_LINEAR)\n",
    "        #cv2.imwrite(f, img)"
   ]
  },
  {
   "cell_type": "code",
   "execution_count": 3,
   "metadata": {},
   "outputs": [
    {
     "ename": "NameError",
     "evalue": "name 'min_axis' is not defined",
     "output_type": "error",
     "traceback": [
      "\u001b[0;31m---------------------------------------------------------------------------\u001b[0m",
      "\u001b[0;31mNameError\u001b[0m                                 Traceback (most recent call last)",
      "\u001b[0;32m<ipython-input-3-f0a9281b3ff3>\u001b[0m in \u001b[0;36m<module>\u001b[0;34m\u001b[0m\n\u001b[0;32m----> 1\u001b[0;31m \u001b[0mmin_axis\u001b[0m\u001b[0;34m\u001b[0m\u001b[0m\n\u001b[0m",
      "\u001b[0;31mNameError\u001b[0m: name 'min_axis' is not defined"
     ]
    }
   ],
   "source": [
    "min_axis"
   ]
  },
  {
   "cell_type": "code",
   "execution_count": null,
   "metadata": {},
   "outputs": [],
   "source": []
  }
 ],
 "metadata": {
  "kernelspec": {
   "display_name": "Python [conda env:python3]",
   "language": "python",
   "name": "conda-env-python3-py"
  },
  "language_info": {
   "codemirror_mode": {
    "name": "ipython",
    "version": 3
   },
   "file_extension": ".py",
   "mimetype": "text/x-python",
   "name": "python",
   "nbconvert_exporter": "python",
   "pygments_lexer": "ipython3",
   "version": "3.6.4"
  }
 },
 "nbformat": 4,
 "nbformat_minor": 2
}
